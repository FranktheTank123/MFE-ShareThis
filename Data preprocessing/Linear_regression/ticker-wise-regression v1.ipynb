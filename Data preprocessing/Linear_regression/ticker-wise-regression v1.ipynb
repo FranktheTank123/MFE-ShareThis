{
 "cells": [
  {
   "cell_type": "code",
   "execution_count": 255,
   "metadata": {
    "collapsed": false
   },
   "outputs": [],
   "source": [
    "import pandas as pd\n",
    "import numpy as np\n",
    "import matplotlib.pyplot as plt\n",
    "plt.style.use('ggplot')\n",
    "from datetime import datetime, date, timedelta\n",
    "#machine learning libraries\n",
    "from sklearn import linear_model, preprocessing\n",
    "import matplotlib.pyplot as plt\n",
    "%matplotlib inline  \n",
    "#ensemble learning \n",
    "from sklearn.ensemble import RandomForestClassifier, RandomForestRegressor, GradientBoostingClassifier\n",
    "from sklearn.grid_search import GridSearchCV   #Perforing grid search\n",
    "#in house python 2 env\n",
    "import Ensemble_library as ES\n",
    "from sklearn.metrics import roc_curve, auc"
   ]
  },
  {
   "cell_type": "code",
   "execution_count": 256,
   "metadata": {
    "collapsed": true
   },
   "outputs": [],
   "source": [
    "holding_period = 60 # 1 hr holding period"
   ]
  },
  {
   "cell_type": "code",
   "execution_count": 257,
   "metadata": {
    "collapsed": true
   },
   "outputs": [],
   "source": [
    "groupped_sentiment_15min_df = pd.read_csv(\"groupped_sentiment_15min_df.csv\",header=0)\n",
    "stock_df = pd.read_csv(\"stock_df.csv\", header=0)"
   ]
  },
  {
   "cell_type": "code",
   "execution_count": 258,
   "metadata": {
    "collapsed": false
   },
   "outputs": [
    {
     "data": {
      "text/html": [
       "<div>\n",
       "<table border=\"1\" class=\"dataframe\">\n",
       "  <thead>\n",
       "    <tr style=\"text-align: right;\">\n",
       "      <th></th>\n",
       "      <th>A</th>\n",
       "      <th>AA</th>\n",
       "      <th>AAL</th>\n",
       "      <th>AAP</th>\n",
       "      <th>AAPL</th>\n",
       "      <th>ABBV</th>\n",
       "      <th>ABC</th>\n",
       "      <th>ABT</th>\n",
       "      <th>ACN</th>\n",
       "      <th>ADBE</th>\n",
       "      <th>...</th>\n",
       "      <th>XLNX</th>\n",
       "      <th>XOM</th>\n",
       "      <th>XRAY</th>\n",
       "      <th>XRX</th>\n",
       "      <th>XYL</th>\n",
       "      <th>YHOO</th>\n",
       "      <th>YUM</th>\n",
       "      <th>ZBH</th>\n",
       "      <th>ZION</th>\n",
       "      <th>ZTS</th>\n",
       "    </tr>\n",
       "  </thead>\n",
       "  <tbody>\n",
       "    <tr>\n",
       "      <th>0</th>\n",
       "      <td>39.982917</td>\n",
       "      <td>15.822593</td>\n",
       "      <td>48.747035</td>\n",
       "      <td>149.843333</td>\n",
       "      <td>127.446272</td>\n",
       "      <td>58.811938</td>\n",
       "      <td>100.025000</td>\n",
       "      <td>46.106976</td>\n",
       "      <td>89.680000</td>\n",
       "      <td>76.669665</td>\n",
       "      <td>...</td>\n",
       "      <td>41.486132</td>\n",
       "      <td>92.731759</td>\n",
       "      <td>52.603630</td>\n",
       "      <td>13.740000</td>\n",
       "      <td>35.963150</td>\n",
       "      <td>44.389807</td>\n",
       "      <td>74.660000</td>\n",
       "      <td>NaN</td>\n",
       "      <td>26.248104</td>\n",
       "      <td>45.566895</td>\n",
       "    </tr>\n",
       "    <tr>\n",
       "      <th>1</th>\n",
       "      <td>40.005965</td>\n",
       "      <td>15.818974</td>\n",
       "      <td>48.682342</td>\n",
       "      <td>149.843333</td>\n",
       "      <td>127.688120</td>\n",
       "      <td>58.803611</td>\n",
       "      <td>100.087857</td>\n",
       "      <td>46.141114</td>\n",
       "      <td>89.477516</td>\n",
       "      <td>76.787148</td>\n",
       "      <td>...</td>\n",
       "      <td>41.486132</td>\n",
       "      <td>92.689992</td>\n",
       "      <td>52.655000</td>\n",
       "      <td>13.721538</td>\n",
       "      <td>35.959000</td>\n",
       "      <td>44.404404</td>\n",
       "      <td>74.706031</td>\n",
       "      <td>NaN</td>\n",
       "      <td>26.302311</td>\n",
       "      <td>45.566895</td>\n",
       "    </tr>\n",
       "    <tr>\n",
       "      <th>2</th>\n",
       "      <td>40.102214</td>\n",
       "      <td>15.789142</td>\n",
       "      <td>48.891180</td>\n",
       "      <td>149.843333</td>\n",
       "      <td>127.738667</td>\n",
       "      <td>58.930407</td>\n",
       "      <td>100.182045</td>\n",
       "      <td>46.108061</td>\n",
       "      <td>89.477516</td>\n",
       "      <td>76.808792</td>\n",
       "      <td>...</td>\n",
       "      <td>41.373725</td>\n",
       "      <td>92.700227</td>\n",
       "      <td>52.615130</td>\n",
       "      <td>13.719722</td>\n",
       "      <td>35.943333</td>\n",
       "      <td>44.337100</td>\n",
       "      <td>74.594534</td>\n",
       "      <td>NaN</td>\n",
       "      <td>26.360256</td>\n",
       "      <td>45.713000</td>\n",
       "    </tr>\n",
       "    <tr>\n",
       "      <th>3</th>\n",
       "      <td>40.099149</td>\n",
       "      <td>15.802009</td>\n",
       "      <td>48.880000</td>\n",
       "      <td>149.813654</td>\n",
       "      <td>127.702581</td>\n",
       "      <td>58.713699</td>\n",
       "      <td>100.182045</td>\n",
       "      <td>46.063788</td>\n",
       "      <td>89.445679</td>\n",
       "      <td>76.747101</td>\n",
       "      <td>...</td>\n",
       "      <td>41.436667</td>\n",
       "      <td>92.892596</td>\n",
       "      <td>52.615130</td>\n",
       "      <td>13.709741</td>\n",
       "      <td>35.922667</td>\n",
       "      <td>44.300666</td>\n",
       "      <td>74.594534</td>\n",
       "      <td>NaN</td>\n",
       "      <td>26.361715</td>\n",
       "      <td>45.705882</td>\n",
       "    </tr>\n",
       "    <tr>\n",
       "      <th>4</th>\n",
       "      <td>40.095567</td>\n",
       "      <td>15.799455</td>\n",
       "      <td>48.888987</td>\n",
       "      <td>149.956667</td>\n",
       "      <td>127.669204</td>\n",
       "      <td>58.659026</td>\n",
       "      <td>100.188564</td>\n",
       "      <td>46.021429</td>\n",
       "      <td>89.538493</td>\n",
       "      <td>76.775631</td>\n",
       "      <td>...</td>\n",
       "      <td>41.378261</td>\n",
       "      <td>92.812826</td>\n",
       "      <td>52.543902</td>\n",
       "      <td>13.722692</td>\n",
       "      <td>35.922667</td>\n",
       "      <td>44.248294</td>\n",
       "      <td>74.564296</td>\n",
       "      <td>NaN</td>\n",
       "      <td>26.306498</td>\n",
       "      <td>45.694539</td>\n",
       "    </tr>\n",
       "  </tbody>\n",
       "</table>\n",
       "<p>5 rows × 500 columns</p>\n",
       "</div>"
      ],
      "text/plain": [
       "           A         AA        AAL         AAP        AAPL       ABBV  \\\n",
       "0  39.982917  15.822593  48.747035  149.843333  127.446272  58.811938   \n",
       "1  40.005965  15.818974  48.682342  149.843333  127.688120  58.803611   \n",
       "2  40.102214  15.789142  48.891180  149.843333  127.738667  58.930407   \n",
       "3  40.099149  15.802009  48.880000  149.813654  127.702581  58.713699   \n",
       "4  40.095567  15.799455  48.888987  149.956667  127.669204  58.659026   \n",
       "\n",
       "          ABC        ABT        ACN       ADBE    ...           XLNX  \\\n",
       "0  100.025000  46.106976  89.680000  76.669665    ...      41.486132   \n",
       "1  100.087857  46.141114  89.477516  76.787148    ...      41.486132   \n",
       "2  100.182045  46.108061  89.477516  76.808792    ...      41.373725   \n",
       "3  100.182045  46.063788  89.445679  76.747101    ...      41.436667   \n",
       "4  100.188564  46.021429  89.538493  76.775631    ...      41.378261   \n",
       "\n",
       "         XOM       XRAY        XRX        XYL       YHOO        YUM  ZBH  \\\n",
       "0  92.731759  52.603630  13.740000  35.963150  44.389807  74.660000  NaN   \n",
       "1  92.689992  52.655000  13.721538  35.959000  44.404404  74.706031  NaN   \n",
       "2  92.700227  52.615130  13.719722  35.943333  44.337100  74.594534  NaN   \n",
       "3  92.892596  52.615130  13.709741  35.922667  44.300666  74.594534  NaN   \n",
       "4  92.812826  52.543902  13.722692  35.922667  44.248294  74.564296  NaN   \n",
       "\n",
       "        ZION        ZTS  \n",
       "0  26.248104  45.566895  \n",
       "1  26.302311  45.566895  \n",
       "2  26.360256  45.713000  \n",
       "3  26.361715  45.705882  \n",
       "4  26.306498  45.694539  \n",
       "\n",
       "[5 rows x 500 columns]"
      ]
     },
     "execution_count": 258,
     "metadata": {},
     "output_type": "execute_result"
    }
   ],
   "source": [
    "stock_df.head()"
   ]
  },
  {
   "cell_type": "code",
   "execution_count": 259,
   "metadata": {
    "collapsed": true
   },
   "outputs": [],
   "source": [
    "def merge_sentiment_return(groupped_sentiment_15min_df, stock_df, holding_period=60):\n",
    "    # we extract all the ticker names\n",
    "    tickers = stock_df.columns.values\n",
    "    tickers = np.delete(tickers, np.where(tickers == \"Time\")) # delete the time columns\n",
    "\n",
    "    # get a new copy of the data\n",
    "    stock_return_df = stock_df.copy()\n",
    "    \n",
    "    # get percent change\n",
    "    stock_return_df[tickers] = stock_return_df[tickers].pct_change(holding_period/15)\n",
    "    \n",
    "    stock_return_double_key = pd.melt(stock_return_df, id_vars=\"Time\",var_name=\"Ticker\", \n",
    "                                      value_name=\"Return_h_\"+str(holding_period))\n",
    "    sentiment_return_merged_df = pd.merge(groupped_sentiment_15min_df, stock_return_double_key, \n",
    "                              on=[\"Time\", \"Ticker\"], how=\"left\").dropna(axis=0)\n",
    "    \n",
    "    return sentiment_return_merged_df.reset_index(drop=True)"
   ]
  },
  {
   "cell_type": "code",
   "execution_count": 260,
   "metadata": {
    "collapsed": false
   },
   "outputs": [],
   "source": [
    "# call the function\n",
    "sentiment_return_merged_df = merge_sentiment_return(groupped_sentiment_15min_df, stock_df, holding_period)\n",
    "\n",
    "# group by ticker\n",
    "sentiment_return_merged_groupby = sentiment_return_merged_df.groupby(\"Ticker\")"
   ]
  },
  {
   "cell_type": "code",
   "execution_count": 261,
   "metadata": {
    "collapsed": true
   },
   "outputs": [],
   "source": [
    "#creating lags\n",
    "def make_lag(df):\n",
    "    lag = []\n",
    "    for i in range(1,5): \n",
    "        lag.append(\"lag_\"+str(i*4))\n",
    "        df[lag[i-1]] = df[\"Return_h_60\"].shift(i*4)\n",
    "    df=df.dropna()\n",
    "    return df\n",
    "\n",
    "#create delta\n",
    "def make_delta(df):\n",
    "    diff=[]\n",
    "    for i in range(1,5):\n",
    "        diff.append(\"delta\"+str(i*4))\n",
    "        df[diff[i-1]] = df[\"Return_h_60\"].diff(i*4)\n",
    "    df=df.dropna()\n",
    "    return df"
   ]
  },
  {
   "cell_type": "code",
   "execution_count": 262,
   "metadata": {
    "collapsed": false,
    "scrolled": true
   },
   "outputs": [
    {
     "name": "stderr",
     "output_type": "stream",
     "text": [
      "/Users/YIHUILI/anaconda/lib/python2.7/site-packages/ipykernel/__main__.py:15: SettingWithCopyWarning: \n",
      "A value is trying to be set on a copy of a slice from a DataFrame.\n",
      "Try using .loc[row_indexer,col_indexer] = value instead\n",
      "\n",
      "See the caveats in the documentation: http://pandas.pydata.org/pandas-docs/stable/indexing.html#indexing-view-versus-copy\n",
      "/Users/YIHUILI/anaconda/lib/python2.7/site-packages/ipykernel/__main__.py:6: SettingWithCopyWarning: \n",
      "A value is trying to be set on a copy of a slice from a DataFrame.\n",
      "Try using .loc[row_indexer,col_indexer] = value instead\n",
      "\n",
      "See the caveats in the documentation: http://pandas.pydata.org/pandas-docs/stable/indexing.html#indexing-view-versus-copy\n"
     ]
    },
    {
     "name": "stdout",
     "output_type": "stream",
     "text": [
      "A done.\n",
      "AA done.\n",
      "AAL done.\n",
      "AAP done.\n",
      "AAPL done.\n",
      "ABBV done.\n",
      "ABC done.\n",
      "ABT done.\n",
      "ACN done.\n",
      "ADBE done.\n",
      "ADI done.\n",
      "ADM done.\n",
      "ADP done.\n",
      "ADS done.\n",
      "ADSK done.\n",
      "AEE done.\n",
      "AEP done.\n",
      "AES done.\n",
      "AET done.\n",
      "AFL done.\n",
      "AGN done.\n",
      "AIG done.\n",
      "AIV done.\n",
      "AIZ done.\n",
      "AJG done.\n",
      "AKAM done.\n",
      "ALB done.\n",
      "ALK done.\n",
      "ALL done.\n",
      "ALLE done.\n",
      "ALXN done.\n",
      "AMAT done.\n",
      "AME done.\n",
      "AMG done.\n",
      "AMGN done.\n",
      "AMP done.\n",
      "AMT done.\n",
      "AMZN done.\n",
      "AN done.\n",
      "ANTM done.\n",
      "AON done.\n",
      "APA done.\n",
      "APC done.\n",
      "APD done.\n",
      "APH done.\n",
      "ATVI done.\n",
      "AVB done.\n",
      "AVGO done.\n",
      "AVY done.\n",
      "AWK done.\n",
      "AXP done.\n",
      "AYI done.\n",
      "AZO done.\n",
      "BA done.\n",
      "BAC done.\n",
      "BAX done.\n",
      "BBBY done.\n",
      "BBT done.\n",
      "BBY done.\n",
      "BDX done.\n",
      "BEN done.\n",
      "BHI done.\n",
      "BIIB done.\n",
      "BK done.\n",
      "BLK done.\n",
      "BLL done.\n",
      "BMY done.\n",
      "BSX done.\n",
      "BWA done.\n",
      "BXP done.\n",
      "C done.\n",
      "CA done.\n",
      "CAG done.\n",
      "CAH done.\n",
      "CAT done.\n",
      "CB done.\n",
      "CBG done.\n",
      "CBS done.\n",
      "CCI done.\n",
      "CCL done.\n",
      "CELG done.\n",
      "CERN done.\n",
      "CF done.\n",
      "CFG done.\n",
      "CHD done.\n",
      "CHK done.\n",
      "CHRW done.\n",
      "CI done.\n",
      "CINF done.\n",
      "CL done.\n",
      "CLX done.\n",
      "CMA done.\n",
      "CMCSA done.\n",
      "CME done.\n",
      "CMG done.\n",
      "CMI done.\n",
      "CMS done.\n",
      "CNC done.\n",
      "COF done.\n",
      "COG done.\n",
      "COH done.\n",
      "COL done.\n",
      "COP done.\n",
      "COST done.\n",
      "CPB done.\n",
      "CRM done.\n",
      "CSCO done.\n",
      "CSX done.\n",
      "CTAS done.\n",
      "CTL done.\n",
      "CTSH done.\n",
      "CTXS done.\n",
      "CVS done.\n",
      "CVX done.\n",
      "CXO done.\n",
      "D done.\n",
      "DAL done.\n",
      "DD done.\n",
      "DE done.\n",
      "DFS done.\n",
      "DG done.\n",
      "DGX done.\n",
      "DHI done.\n",
      "DHR done.\n",
      "DIS done.\n",
      "DISCA done.\n",
      "DLPH done.\n",
      "DLR done.\n",
      "DLTR done.\n",
      "DNB done.\n",
      "DO done.\n",
      "DOV done.\n",
      "DOW done.\n",
      "DPS done.\n",
      "DRI done.\n",
      "DTE done.\n",
      "DUK done.\n",
      "DVA done.\n",
      "DVN done.\n",
      "EA done.\n",
      "EBAY done.\n",
      "ECL done.\n",
      "ED done.\n",
      "EFX done.\n",
      "EIX done.\n",
      "EL done.\n",
      "EMC done.\n",
      "EMN done.\n",
      "EMR done.\n",
      "ENDP done.\n",
      "EOG done.\n",
      "EQIX done.\n",
      "EQR done.\n",
      "EQT done.\n",
      "ES done.\n",
      "ESRX done.\n",
      "ESS done.\n",
      "ETFC done.\n",
      "ETR done.\n",
      "EW done.\n",
      "EXC done.\n",
      "EXPD done.\n",
      "EXPE done.\n",
      "EXR done.\n",
      "F done.\n",
      "FAST done.\n",
      "FB done.\n",
      "FBHS done.\n",
      "FCX done.\n",
      "FDX done.\n",
      "FE done.\n",
      "FFIV done.\n",
      "FIS done.\n",
      "FISV done.\n",
      "FITB done.\n",
      "FL done.\n",
      "FLIR done.\n",
      "FLR done.\n",
      "FLS done.\n",
      "FMC done.\n",
      "FOXA done.\n",
      "FRT done.\n",
      "FSLR done.\n",
      "FTI done.\n",
      "FTR done.\n",
      "GD done.\n",
      "GE done.\n",
      "GGP done.\n",
      "GILD done.\n",
      "GIS done.\n",
      "GLW done.\n",
      "GM done.\n",
      "GOOGL done.\n",
      "GPC done.\n",
      "GPN done.\n",
      "GPS done.\n",
      "GRMN done.\n",
      "GS done.\n",
      "GT done.\n",
      "GWW done.\n",
      "HAL done.\n",
      "HAR done.\n",
      "HAS done.\n",
      "HBAN done.\n",
      "HBI done.\n",
      "HCA done.\n",
      "HCN done.\n",
      "HCP done.\n",
      "HD done.\n",
      "HES done.\n",
      "HIG done.\n",
      "HOG done.\n",
      "HOLX done.\n",
      "HON done.\n",
      "HPE done.\n",
      "HPQ done.\n",
      "HRL done.\n",
      "HRS done.\n",
      "HSIC done.\n",
      "HST done.\n",
      "HSY done.\n",
      "HUM done.\n",
      "IBM done.\n",
      "ICE done.\n",
      "IFF done.\n",
      "ILMN done.\n",
      "INTC done.\n",
      "INTU done.\n",
      "IP done.\n",
      "IPG done.\n",
      "IR done.\n",
      "IRM done.\n",
      "ISRG done.\n",
      "ITW done.\n",
      "IVZ done.\n",
      "JCI done.\n",
      "JEC done.\n",
      "JNJ done.\n",
      "JNPR done.\n",
      "JPM done.\n",
      "JWN done.\n",
      "K done.\n",
      "KEY done.\n",
      "KHC done.\n",
      "KIM done.\n",
      "KLAC done.\n",
      "KMB done.\n",
      "KMI done.\n",
      "KMX done.\n",
      "KO done.\n",
      "KORS done.\n",
      "KR done.\n",
      "KSS done.\n",
      "L done.\n",
      "LB done.\n",
      "LEG done.\n",
      "LEN done.\n",
      "LH done.\n",
      "LKQ done.\n",
      "LLL done.\n",
      "LLTC done.\n",
      "LLY done.\n",
      "LM done.\n",
      "LMT done.\n",
      "LNC done.\n",
      "LNT done.\n",
      "LOW done.\n",
      "LRCX done.\n",
      "LUK done.\n",
      "LUV done.\n",
      "LVLT done.\n",
      "LYB done.\n",
      "M done.\n",
      "MA done.\n",
      "MAC done.\n",
      "MAR done.\n",
      "MAS done.\n",
      "MAT done.\n",
      "MCD done.\n",
      "MCHP done.\n",
      "MCK done.\n",
      "MCO done.\n",
      "MDLZ done.\n",
      "MDT done.\n",
      "MET done.\n",
      "MHK done.\n",
      "MJN done.\n",
      "MKC done.\n",
      "MLM done.\n",
      "MMC done.\n",
      "MNK done.\n",
      "MNST done.\n",
      "MO done.\n",
      "MON done.\n",
      "MOS done.\n",
      "MPC done.\n",
      "MRK done.\n",
      "MRO done.\n",
      "MS done.\n",
      "MSFT done.\n",
      "MSI done.\n",
      "MTB done.\n",
      "MU done.\n",
      "MUR done.\n",
      "MYL done.\n",
      "NAVI done.\n",
      "NBL done.\n",
      "NDAQ done.\n",
      "NEE done.\n",
      "NEM done.\n",
      "NFLX done.\n",
      "NFX done.\n",
      "NI done.\n",
      "NKE done.\n",
      "NLSN done.\n",
      "NOC done.\n",
      "NOV done.\n",
      "NRG done.\n",
      "NSC done.\n",
      "NTAP done.\n",
      "NTRS done.\n",
      "NUE done.\n",
      "NVDA done.\n",
      "NWL done.\n",
      "NWSA done.\n",
      "O done.\n",
      "OI done.\n",
      "OKE done.\n",
      "OMC done.\n",
      "ORCL done.\n",
      "ORLY done.\n",
      "OXY done.\n",
      "PAYX done.\n",
      "PBCT done.\n",
      "PBI done.\n",
      "PCAR done.\n",
      "PCG done.\n",
      "PCLN done.\n",
      "PDCO done.\n",
      "PEG done.\n",
      "PEP done.\n",
      "PFG done.\n",
      "PG done.\n",
      "PGR done.\n",
      "PH done.\n",
      "PHM done.\n",
      "PKI done.\n",
      "PLD done.\n",
      "PM done.\n",
      "PNC done.\n",
      "PNR done.\n",
      "PNW done.\n",
      "PPG done.\n",
      "PPL done.\n",
      "PRGO done.\n",
      "PRU done.\n",
      "PSA done.\n",
      "PSX done.\n",
      "PVH done.\n",
      "PWR done.\n",
      "PX done.\n",
      "PXD done.\n",
      "PYPL done.\n",
      "QCOM done.\n",
      "QRVO done.\n",
      "R done.\n",
      "RAI done.\n",
      "RCL done.\n",
      "REGN done.\n",
      "RF done.\n",
      "RHI done.\n",
      "RHT done.\n",
      "RIG done.\n",
      "RL done.\n",
      "ROK done.\n",
      "ROP done.\n",
      "ROST done.\n",
      "RRC done.\n",
      "RSG done.\n",
      "RTN done.\n",
      "SBUX done.\n",
      "SCG done.\n",
      "SCHW done.\n",
      "SE done.\n",
      "SEE done.\n",
      "SHW done.\n",
      "SIG done.\n",
      "SJM done.\n",
      "SLB done.\n",
      "SLG done.\n",
      "SNA done.\n",
      "SNI done.\n",
      "SO done.\n",
      "SPG done.\n",
      "SPLS done.\n",
      "SRCL done.\n",
      "SRE done.\n",
      "STI done.\n",
      "STJ done.\n",
      "STT done.\n",
      "STX done.\n",
      "STZ done.\n",
      "SWK done.\n",
      "SWKS done.\n",
      "SWN done.\n",
      "SYF done.\n",
      "SYK done.\n",
      "SYMC done.\n",
      "SYY done.\n",
      "T done.\n",
      "TAP done.\n",
      "TDC done.\n",
      "TDG done.\n",
      "TEL done.\n",
      "TGNA done.\n",
      "TGT done.\n",
      "TIF done.\n",
      "TJX done.\n",
      "TMK done.\n",
      "TMO done.\n",
      "TRIP done.\n",
      "TROW done.\n",
      "TRV done.\n",
      "TSCO done.\n",
      "TSN done.\n",
      "TSO done.\n",
      "TSS done.\n",
      "TWX done.\n",
      "TXN done.\n",
      "TXT done.\n",
      "UA done.\n",
      "UAL done.\n",
      "UDR done.\n",
      "UHS done.\n",
      "UNH done.\n",
      "UNM done.\n",
      "UNP done.\n",
      "UPS done.\n",
      "URBN done.\n",
      "URI done.\n",
      "USB done.\n",
      "UTX done.\n",
      "V done.\n",
      "VAR done.\n",
      "VFC done.\n",
      "VIAB done.\n",
      "VLO done.\n",
      "VMC done.\n",
      "VNO done.\n",
      "VRSK done.\n",
      "VRSN done.\n",
      "VRTX done.\n",
      "VTR done.\n",
      "VZ done.\n",
      "WAT done.\n",
      "WBA done.\n",
      "WDC done.\n",
      "WEC done.\n",
      "WFC done.\n",
      "WFM done.\n",
      "WHR done.\n",
      "WM done.\n",
      "WMB done.\n",
      "WMT done.\n",
      "WRK done.\n",
      "WU done.\n",
      "WY done.\n",
      "WYN done.\n",
      "WYNN done.\n",
      "XEC done.\n",
      "XEL done.\n",
      "XL done.\n",
      "XLNX done.\n",
      "XOM done.\n",
      "XRAY done.\n",
      "XRX done.\n",
      "XYL done.\n",
      "YHOO done.\n",
      "YUM done.\n",
      "ZBH done.\n",
      "ZION done.\n",
      "ZTS done.\n"
     ]
    }
   ],
   "source": [
    "ticker_df_list = []\n",
    "for ticker, group in sentiment_return_merged_groupby:\n",
    "    ticker_df_list.append(make_lag(make_delta(group)))\n",
    "\n",
    "final_df = pd.concat(ticker_df_list)\n",
    "    "
   ]
  },
  {
   "cell_type": "code",
   "execution_count": null,
   "metadata": {
    "collapsed": false,
    "scrolled": true
   },
   "outputs": [],
   "source": []
  },
  {
   "cell_type": "code",
   "execution_count": 307,
   "metadata": {
    "collapsed": false
   },
   "outputs": [],
   "source": [
    "#define variables\n",
    "col=['sentiment_mean','sentiment_std', 'sentiment_count','event_pview_count','event_click_count', 'event_search_count',\\\n",
    "    'event_share_count','lag_4','lag_8',\"lag_12\",\"lag_16\",'delta4','delta8','delta12','delta16','Return_h_60']\n",
    "\n",
    "y=\"Return_h_60\"\n",
    "predictors= ['sentiment_mean','sentiment_std', 'sentiment_count','event_pview_count', \n",
    "             'event_click_count', 'event_search_count','event_share_count']\n",
    "predictors_bm =['lag_4',\"lag_8\",\"lag_12\",'lag_16','delta4','delta8','delta12','delta16']"
   ]
  },
  {
   "cell_type": "code",
   "execution_count": 308,
   "metadata": {
    "collapsed": true
   },
   "outputs": [],
   "source": [
    "label = 'return_sign'\n",
    "\n",
    "final_df['return_sign'] = final_df['Return_h_60']>0\n",
    "\n"
   ]
  },
  {
   "cell_type": "code",
   "execution_count": 309,
   "metadata": {
    "collapsed": false
   },
   "outputs": [],
   "source": [
    "final_df = final_df.sort_values(\"Time\").reset_index(drop=True)"
   ]
  },
  {
   "cell_type": "markdown",
   "metadata": {},
   "source": [
    "# try non-linear methods"
   ]
  },
  {
   "cell_type": "code",
   "execution_count": 310,
   "metadata": {
    "collapsed": false
   },
   "outputs": [],
   "source": [
    "\n",
    "#split data\n",
    "m=final_df.shape[0]\n",
    "test_portion=0.8\n",
    "\n",
    "test_data = final_df.iloc[int(m*test_portion):]\n",
    "train_valid_data = final_df.iloc[:int(m*test_portion)]\n",
    "\n",
    "\n",
    "## check if we slice correctly\n",
    "assert len(test_data)+ len(train_valid_data) == m "
   ]
  },
  {
   "cell_type": "code",
   "execution_count": 311,
   "metadata": {
    "collapsed": false
   },
   "outputs": [
    {
     "data": {
      "text/plain": [
       "0.46013935315724147"
      ]
     },
     "execution_count": 311,
     "metadata": {},
     "output_type": "execute_result"
    }
   ],
   "source": [
    "(final_df['return_sign'] == True).sum()/1./final_df.shape[0]"
   ]
  },
  {
   "cell_type": "code",
   "execution_count": 312,
   "metadata": {
    "collapsed": false
   },
   "outputs": [
    {
     "data": {
      "text/plain": [
       "'2015-09-30 17:15:00'"
      ]
     },
     "execution_count": 312,
     "metadata": {},
     "output_type": "execute_result"
    }
   ],
   "source": [
    "train_valid_data[\"Time\"].max()"
   ]
  },
  {
   "cell_type": "code",
   "execution_count": 313,
   "metadata": {
    "collapsed": false
   },
   "outputs": [
    {
     "data": {
      "text/plain": [
       "'2015-09-30 17:15:00'"
      ]
     },
     "execution_count": 313,
     "metadata": {},
     "output_type": "execute_result"
    }
   ],
   "source": [
    "test_data[\"Time\"].min()"
   ]
  },
  {
   "cell_type": "code",
   "execution_count": 314,
   "metadata": {
    "collapsed": false
   },
   "outputs": [
    {
     "name": "stdout",
     "output_type": "stream",
     "text": [
      "\n",
      "Model Report\n",
      "Accuracy : 0.9195\n",
      "AUC Score (Train): 0.977973\n",
      "CV Score : Mean - 0.496766 | Std - 0.006626773 | Min - 0.4860499 | Max - 0.5034367\n"
     ]
    },
    {
     "data": {
      "image/png": "[encoded data removed]",
      "text/plain": [
       "<matplotlib.figure.Figure at 0x11b0fe350>"
      ]
     },
     "metadata": {},
     "output_type": "display_data"
    }
   ],
   "source": [
    "#bagging with all benchmark features, Excess change ROE\n",
    "rf_benchmark1 = RandomForestClassifier()\n",
    "ES.modelfit(rf_benchmark1, train_valid_data, predictors, label)\n",
    "y1_pred_benchmark=rf_benchmark1.predict(test_data[predictors])"
   ]
  },
  {
   "cell_type": "code",
   "execution_count": 315,
   "metadata": {
    "collapsed": false
   },
   "outputs": [
    {
     "data": {
      "image/png": "[encoded data removed]",
      "text/plain": [
       "<matplotlib.figure.Figure at 0x14b2042d0>"
      ]
     },
     "metadata": {},
     "output_type": "display_data"
    },
    {
     "data": {
      "text/plain": [
       "(0.50323225989924036, 1.0)"
      ]
     },
     "execution_count": 315,
     "metadata": {},
     "output_type": "execute_result"
    }
   ],
   "source": [
    "#look at OOS AUC\n",
    "ES = reload (ES)\n",
    "ES.getAUC(rf_benchmark1,test_data,predictors,label,threshold=0.5, show_plot=True)"
   ]
  },
  {
   "cell_type": "code",
   "execution_count": 297,
   "metadata": {
    "collapsed": false
   },
   "outputs": [
    {
     "data": {
      "text/plain": [
       "{'bootstrap': True,\n",
       " 'class_weight': None,\n",
       " 'criterion': 'gini',\n",
       " 'max_depth': None,\n",
       " 'max_features': 'auto',\n",
       " 'max_leaf_nodes': None,\n",
       " 'min_samples_leaf': 1,\n",
       " 'min_samples_split': 2,\n",
       " 'min_weight_fraction_leaf': 0.0,\n",
       " 'n_estimators': 10,\n",
       " 'n_jobs': 1,\n",
       " 'oob_score': False,\n",
       " 'random_state': None,\n",
       " 'verbose': 0,\n",
       " 'warm_start': False}"
      ]
     },
     "execution_count": 297,
     "metadata": {},
     "output_type": "execute_result"
    }
   ],
   "source": [
    "rf_benchmark1.get_params()"
   ]
  },
  {
   "cell_type": "code",
   "execution_count": 223,
   "metadata": {
    "collapsed": false
   },
   "outputs": [
    {
     "name": "stdout",
     "output_type": "stream",
     "text": [
      "\n",
      "Model Report\n",
      "Accuracy : 0.9998\n",
      "AUC Score (Train): 1.000000\n",
      "CV Score : Mean - 0.9995504 | Std - 8.304835e-05 | Min - 0.9994168 | Max - 0.9996511\n"
     ]
    },
    {
     "data": {
      "image/png": "[encoded data removed]",
      "text/plain": [
       "<matplotlib.figure.Figure at 0x11ab0cc10>"
      ]
     },
     "metadata": {},
     "output_type": "display_data"
    }
   ],
   "source": [
    "#bagging with all benchmark features, Excess change ROE\n",
    "rf_glimpse = RandomForestClassifier()\n",
    "ES.modelfit(rf_glimpse, train_valid_data, predictors, label)"
   ]
  },
  {
   "cell_type": "code",
   "execution_count": null,
   "metadata": {
    "collapsed": false
   },
   "outputs": [],
   "source": []
  },
  {
   "cell_type": "code",
   "execution_count": null,
   "metadata": {
    "collapsed": false
   },
   "outputs": [],
   "source": []
  },
  {
   "cell_type": "code",
   "execution_count": 254,
   "metadata": {
    "collapsed": false
   },
   "outputs": [
    {
     "name": "stdout",
     "output_type": "stream",
     "text": [
      "[ 0.98782935  0.99109685  0.99109685  0.99109685  0.99109685  0.99109685\n",
      "  0.99109685  0.99109685  0.99109685  0.99109685  0.99109685  0.99412419\n",
      "  0.99412419  0.99412419  0.99412419  0.99412419  0.99412419  0.99412419\n",
      "  0.99412419  0.99412419  0.99412419  0.99641728  0.99641728  0.99641728\n",
      "  0.99641728  0.99641728  0.99641728  0.99641728  0.99641728  0.99641728\n",
      "  0.99641728  0.99810021  0.99810021  0.99810021  0.99810021  0.99810021\n",
      "  0.99810021  0.99810021  0.99810021  0.99810021  0.99810021  0.99929693\n",
      "  0.99929693  0.99929693  0.99929693  0.99929693]\n"
     ]
    },
    {
     "data": {
      "image/png": "[encoded data removed]",
      "text/plain": [
       "<matplotlib.figure.Figure at 0x14b017410>"
      ]
     },
     "metadata": {},
     "output_type": "display_data"
    }
   ],
   "source": [
    "ES = reload(ES)\n",
    "ES.AUCvsCountsPlot(rf_benchmark1, test_data, predictors_bm, label)\n"
   ]
  },
  {
   "cell_type": "code",
   "execution_count": 316,
   "metadata": {
    "collapsed": false
   },
   "outputs": [
    {
     "data": {
      "text/plain": [
       "([mean: 0.54455, std: 0.00004, params: {'max_features': 1},\n",
       "  mean: 0.54441, std: 0.00010, params: {'max_features': 3},\n",
       "  mean: 0.54434, std: 0.00018, params: {'max_features': 5}],\n",
       " {'max_features': 1},\n",
       " 0.54455331971708409)"
      ]
     },
     "execution_count": 316,
     "metadata": {},
     "output_type": "execute_result"
    }
   ],
   "source": [
    "##2.train max_feature\n",
    "n_estimators= 100\n",
    "min_samples_split = 0.001*m ## make it 1% of the data\n",
    "param_test2 = {'max_features':list(range(1,7,2))}\n",
    "gsearch2 = GridSearchCV(estimator = RandomForestClassifier( n_estimators = n_estimators, \n",
    "    min_samples_leaf = 1,\n",
    "    min_samples_split=min_samples_split, max_depth=20,random_state=10, n_jobs = -1,criterion=\"entropy\"),\n",
    "    param_grid = param_test2, scoring='accuracy',n_jobs=-1,iid=False, cv=3)\n",
    "gsearch2.fit(train_valid_data[predictors],train_valid_data[label])\n",
    "gsearch2.grid_scores_, gsearch2.best_params_, gsearch2.best_score_"
   ]
  },
  {
   "cell_type": "code",
   "execution_count": 319,
   "metadata": {
    "collapsed": false
   },
   "outputs": [
    {
     "data": {
      "text/plain": [
       "{'bootstrap': True,\n",
       " 'class_weight': None,\n",
       " 'criterion': 'entropy',\n",
       " 'max_depth': 20,\n",
       " 'max_features': 1,\n",
       " 'max_leaf_nodes': None,\n",
       " 'min_samples_leaf': 1,\n",
       " 'min_samples_split': 2179.355,\n",
       " 'min_weight_fraction_leaf': 0.0,\n",
       " 'n_estimators': 100,\n",
       " 'n_jobs': -1,\n",
       " 'oob_score': False,\n",
       " 'random_state': 10,\n",
       " 'verbose': 0,\n",
       " 'warm_start': False}"
      ]
     },
     "execution_count": 319,
     "metadata": {},
     "output_type": "execute_result"
    }
   ],
   "source": [
    "rf2=gsearch2.best_estimator_\n",
    "rf2.get_params()"
   ]
  },
  {
   "cell_type": "code",
   "execution_count": null,
   "metadata": {
    "collapsed": false
   },
   "outputs": [],
   "source": []
  },
  {
   "cell_type": "code",
   "execution_count": null,
   "metadata": {
    "collapsed": true
   },
   "outputs": [],
   "source": []
  }
 ],
 "metadata": {
  "kernelspec": {
   "display_name": "Python 2",
   "language": "python",
   "name": "python2"
  },
  "language_info": {
   "codemirror_mode": {
    "name": "ipython",
    "version": 2
   },
   "file_extension": ".py",
   "mimetype": "text/x-python",
   "name": "python",
   "nbconvert_exporter": "python",
   "pygments_lexer": "ipython2",
   "version": "2.7.12"
  }
 },
 "nbformat": 4,
 "nbformat_minor": 0
}
