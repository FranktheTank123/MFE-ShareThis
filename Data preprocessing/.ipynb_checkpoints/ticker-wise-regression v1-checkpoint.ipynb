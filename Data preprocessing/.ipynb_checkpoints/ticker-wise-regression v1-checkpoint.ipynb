{
 "cells": [
  {
   "cell_type": "code",
   "execution_count": 13,
   "metadata": {
    "collapsed": false
   },
   "outputs": [],
   "source": [
    "import pandas as pd\n",
    "import numpy as np\n",
    "import matplotlib.pyplot as plt\n",
    "plt.style.use('ggplot')\n",
    "from datetime import datetime, date, timedelta"
   ]
  },
  {
   "cell_type": "code",
   "execution_count": 32,
   "metadata": {
    "collapsed": true
   },
   "outputs": [],
   "source": [
    "holding_period = 60 # 1 hr holding period"
   ]
  },
  {
   "cell_type": "code",
   "execution_count": 18,
   "metadata": {
    "collapsed": true
   },
   "outputs": [],
   "source": [
    "groupped_sentiment_15min_df = pd.read_csv(\"groupped_sentiment_15min_df.csv\",header=0)\n",
    "stock_df = pd.read_csv(\"stock_df.csv\", header=0)"
   ]
  },
  {
   "cell_type": "code",
   "execution_count": 82,
   "metadata": {
    "collapsed": true
   },
   "outputs": [],
   "source": [
    "def merge_sentiment_return(groupped_sentiment_15min_df, stock_df, holding_period=60):\n",
    "    # we extract all the ticker names\n",
    "    tickers = stock_df.columns.values\n",
    "    tickers = np.delete(tickers, np.where(tickers == \"Time\")) # delete the time columns\n",
    "\n",
    "    # get a new copy of the data\n",
    "    stock_return_df = stock_df.copy()\n",
    "    \n",
    "    # get percent change\n",
    "    stock_return_df[tickers] = stock_return_df[tickers].pct_change(holding_period)\n",
    "    \n",
    "    stock_return_double_key = pd.melt(stock_return_df, id_vars=\"Time\",var_name=\"Ticker\", \n",
    "                                      value_name=\"Return_h_\"+str(holding_period))\n",
    "    sentiment_return_merged_df = pd.merge(groupped_sentiment_15min_df, stock_return_double_key, \n",
    "                              on=[\"Time\", \"Ticker\"], how=\"left\").dropna(axis=0)\n",
    "    \n",
    "    return sentiment_return_merged_df.reset_index(drop=True)"
   ]
  },
  {
   "cell_type": "code",
   "execution_count": 83,
   "metadata": {
    "collapsed": false
   },
   "outputs": [],
   "source": [
    "# call the function\n",
    "sentiment_return_merged_df = merge_sentiment_return(groupped_sentiment_15min_df, stock_df, holding_period)\n",
    "\n",
    "# group by ticker\n",
    "sentiment_return_merged_groupby = sentiment_return_merged_df.groupby(\"Ticker\")"
   ]
  },
  {
   "cell_type": "code",
   "execution_count": 85,
   "metadata": {
    "collapsed": false
   },
   "outputs": [],
   "source": [
    "for ticker, df in sentiment_return_merged_groupby:\n",
    "    \"\"\"\n",
    "    Please add here...\n",
    "    \"\"\""
   ]
  },
  {
   "cell_type": "code",
   "execution_count": null,
   "metadata": {
    "collapsed": true
   },
   "outputs": [],
   "source": []
  }
 ],
 "metadata": {
  "kernelspec": {
   "display_name": "Python 3.5",
   "language": "python",
   "name": "python3.5"
  }
 },
 "nbformat": 4,
 "nbformat_minor": 0
}
