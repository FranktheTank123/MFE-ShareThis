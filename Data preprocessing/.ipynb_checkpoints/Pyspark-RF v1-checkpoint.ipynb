{
 "cells": [
  {
   "cell_type": "code",
   "execution_count": 1,
   "metadata": {
    "collapsed": true
   },
   "outputs": [],
   "source": [
    "import os\n",
    "from datetime import date , datetime\n",
    "from pyspark.sql.types import *\n",
    "from pyspark.context import SparkContext\n",
    "from pyspark.sql import SparkSession, SQLContext\n",
    "from pyspark.storagelevel import StorageLevel\n",
    "from pyspark.sql.functions import *\n",
    "import pyspark\n",
    "\n",
    "## ML specific\n",
    "from pyspark.ml.feature import VectorAssembler\n",
    "from pyspark.ml import Pipeline\n",
    "from pyspark.ml.tuning import ParamGridBuilder, CrossValidator\n",
    "from pyspark.ml.classification import GBTClassifier, RandomForestClassifier\n",
    "from pyspark.ml.feature import StringIndexer, VectorIndexer\n",
    "from pyspark.ml.evaluation import BinaryClassificationEvaluator"
   ]
  },
  {
   "cell_type": "code",
   "execution_count": 2,
   "metadata": {
    "collapsed": false
   },
   "outputs": [],
   "source": [
    "from pyspark.sql import SparkSession\n",
    "spark = SparkSession.builder.getOrCreate()"
   ]
  },
  {
   "cell_type": "code",
   "execution_count": 3,
   "metadata": {
    "collapsed": true
   },
   "outputs": [],
   "source": [
    "day = '20150217'\n",
    "num_of_domain = 100\n",
    "region = \"us\"\n",
    "seed = 1014\n",
    "save_parquet = False"
   ]
  },
  {
   "cell_type": "code",
   "execution_count": 4,
   "metadata": {
    "collapsed": true
   },
   "outputs": [],
   "source": [
    "file_path = \"s3n://log.sharethis.com/amankesarwani/\" + region + \"/\" + str(day) + \"/part-000000000001*\"\n",
    "stock_return_path = \"s3n://log.sharethis.com/Stock_Proceesed_Minute_60_Second_Return_lag.csv\""
   ]
  },
  {
   "cell_type": "code",
   "execution_count": 5,
   "metadata": {
    "collapsed": false
   },
   "outputs": [],
   "source": [
    "\"\"\"\n",
    "let's clean the stock data\n",
    "\"\"\"\n",
    "stock_return_raw = spark.read.csv(stock_return_path, sep=\",\", header=True)\n",
    "\n",
    "## clean the time\n",
    "stock_return_cleaned = \\\n",
    "    stock_return_raw.withColumn(\"TimeStamp\", from_utc_timestamp(stock_return_raw.Lagged_Time, \"UTC\")) \\\n",
    "    .drop(\"Lagged_Time\").withColumnRenamed(\"variable\", \"Ticker\") \\\n",
    "    .withColumn(\"Return\", col(\"Return\").cast(\"Double\"))\n",
    "\n",
    "stock_return_cleaned.cache()\n",
    "\n",
    "# we might need to broadcast this later\n",
    "SP500_tickers = \\\n",
    "    [x.Ticker for x in stock_return_cleaned.select(\"Ticker\").distinct().collect()] \n"
   ]
  },
  {
   "cell_type": "code",
   "execution_count": 6,
   "metadata": {
    "collapsed": false
   },
   "outputs": [],
   "source": [
    "# stock_return_cleaned.select(\"TimeStamp\").rdd.top(10)"
   ]
  },
  {
   "cell_type": "code",
   "execution_count": 7,
   "metadata": {
    "collapsed": true
   },
   "outputs": [],
   "source": [
    "\"\"\"Functions here.\"\"\"\n",
    "\n",
    "## personalized UDF: AAPL.x -> AAPL\n",
    "def ricToTicker_(ric):\n",
    "    try:\n",
    "        return ric.split('.')[0]\n",
    "    except:\n",
    "        pass\n",
    "\n",
    "ricToTicker = udf(ricToTicker_)\n",
    "\n",
    "\n",
    "def explodeAndDropCol(pySparkDataFrame, col_names, alias = \"tempCol\"):\n",
    "    \"\"\"Explode a column and drop the un-exploded one.\"\"\"\n",
    "    return pySparkDataFrame.select('*', explode(col(col_names)) \\\n",
    "        .alias(alias)).drop(col_names)\n",
    "\n",
    "\n",
    "def selectCompanyInfo(pySparkDataFrame, col_name = \"tempCol\"):\n",
    "    \"\"\"Further filter the nested column.\"\"\" \n",
    "    _temp = (\n",
    "             pySparkDataFrame.withColumn(\"company_count\", col(col_name).getItem(\"count\").cast(\"Integer\"))\n",
    "             .withColumn(\"company_sentiment_score\", col(col_name).getItem(\"sentiment_score\").cast(\"Double\"))\n",
    "             .withColumn(\"Ticker\", ricToTicker(col(col_name).getItem(\"ric\")))\n",
    "             .drop(col_name)\n",
    "             .filter(col('Ticker').isNotNull())\n",
    "             .filter(col('company_sentiment_score').isNotNull())\n",
    "            )\n",
    "    return _temp\n",
    "\n",
    "\n",
    "def getTopDomain(refDomain_categories, num_of_domain):\n",
    "    \"\"\"Get top domain form the list.\"\"\"\n",
    "    refDomain_categories_filter = []\n",
    "    for x in refDomain_categories:\n",
    "        if len(refDomain_categories_filter) < num_of_domain:\n",
    "            try:\n",
    "                temp = (x[0]).split('.')[-2]\n",
    "                if temp not in refDomain_categories_filter:\n",
    "                    refDomain_categories_filter.append(temp)\n",
    "            except:\n",
    "                pass\n",
    "    return refDomain_categories_filter\n",
    "\n",
    "\n",
    "def parse_sharethis_time_(time):\n",
    "    \"\"\"set second = 0\"\"\"\n",
    "    return datetime.strptime(time, \"%Y-%m-%dT%H:%M:%S.%fZ\").replace(second=0) \n",
    "\n",
    "\n",
    "parse_sharethis_time = udf(parse_sharethis_time_, TimestampType())\n",
    "\n",
    "getHours = udf(lambda x: x.hour ,IntegerType())"
   ]
  },
  {
   "cell_type": "code",
   "execution_count": 8,
   "metadata": {
    "collapsed": false
   },
   "outputs": [],
   "source": [
    "\"\"\"\n",
    "Then we process the sentiment data\n",
    "\"\"\"\n",
    "# load data\n",
    "sharethis_json = spark.read.json(file_path)  # spark 2.0"
   ]
  },
  {
   "cell_type": "code",
   "execution_count": 9,
   "metadata": {
    "collapsed": false
   },
   "outputs": [
    {
     "data": {
      "text/plain": [
       "DataFrame[browserFamily: string, channel: string, deviceType: string, mappedEvent: string, os: string, refDomain: string, shortIp: string, standardTimestamp: string, company_count: int, company_sentiment_score: double, Ticker: string]"
      ]
     },
     "execution_count": 9,
     "metadata": {},
     "output_type": "execute_result"
    }
   ],
   "source": [
    "# data process\n",
    "temp_json_raw_1 = explodeAndDropCol(sharethis_json, \"companies\")  # explode the companies to multiples cols\n",
    "temp_json_raw_2 = selectCompanyInfo(temp_json_raw_1)  # unnest the cols and clean the tickers\n",
    "sharethis_json_cleaned = temp_json_raw_2.drop('stid').drop('url').drop('userAgent')  # drop unnecessary cols\n",
    "\n",
    "# cache for further usage\n",
    "sharethis_json_cleaned.cache()"
   ]
  },
  {
   "cell_type": "code",
   "execution_count": 10,
   "metadata": {
    "collapsed": false
   },
   "outputs": [],
   "source": [
    "## we only need SP500 tickers\n",
    "sharethis_json_cleaned = sharethis_json_cleaned.filter(col(\"Ticker\").isin(SP500_tickers))"
   ]
  },
  {
   "cell_type": "code",
   "execution_count": 11,
   "metadata": {
    "collapsed": false
   },
   "outputs": [],
   "source": [
    "\"\"\"Add dummies\"\"\"\n",
    "\n",
    "device_categories = [u'Personal computer', u'Tablet', u'Smartphone']\n",
    "mappedEvent_categories = [u'pview', u'click', u'search', u'share']\n",
    "\n",
    "refDomain_categories = (sharethis_json_cleaned.groupBy(\"refDomain\")\n",
    "                        .count().orderBy(desc(\"count\")).select(\"refDomain\")\n",
    "                        .collect())\n",
    "\n",
    "refDomain_categories_filter = getTopDomain(refDomain_categories, num_of_domain)\n",
    "\n",
    "exprs_device = [when(col(\"deviceType\") == category, 1).otherwise(0).alias(\"is_device_\"+category.replace (\" \", \"_\"))\n",
    "        for category in device_categories]\n",
    "exprs_domain = [when(col(\"refDomain\") == category, 1).otherwise(0).alias(\"is_domain_\"+category)\n",
    "        for category in refDomain_categories_filter]\n",
    "exprs_mappedEvent = [when(col(\"mappedEvent\") == category, 1).otherwise(0).alias(\"is_event_\"+category)\n",
    "        for category in mappedEvent_categories]"
   ]
  },
  {
   "cell_type": "code",
   "execution_count": 12,
   "metadata": {
    "collapsed": false,
    "scrolled": true
   },
   "outputs": [],
   "source": [
    "labeled_sharethis_json_cleaned = sharethis_json_cleaned.select(\"*\", *exprs_device) \\\n",
    "        .select(\"*\", *exprs_domain).select(\"*\", *exprs_mappedEvent) \\\n",
    "        .drop(\"deviceType\").drop(\"refDomain\").drop(\"mappedEvent\").drop(\"os\").drop(\"browserFamily\")\n",
    "    \n",
    "labeled_sharethis_json_final = (labeled_sharethis_json_cleaned\n",
    "                      .withColumn(\"TimeStamp\", parse_sharethis_time(col(\"standardTimestamp\")))\n",
    "                      .drop(\"standardTimestamp\")\n",
    "                     )"
   ]
  },
  {
   "cell_type": "code",
   "execution_count": 13,
   "metadata": {
    "collapsed": false,
    "scrolled": false
   },
   "outputs": [],
   "source": [
    "# labeled_sharethis_json_final.select(\"TimeStamp\").rdd.top(1)"
   ]
  },
  {
   "cell_type": "code",
   "execution_count": 13,
   "metadata": {
    "collapsed": false
   },
   "outputs": [],
   "source": [
    "## join and filter\n",
    "joined_dataframe = labeled_sharethis_json_final.join(stock_return_cleaned, [\"TimeStamp\", \"Ticker\"], how = \"left_outer\")\n",
    " \n",
    "joined_dataframe_filtered = joined_dataframe.filter(col('Return').isNotNull())\n"
   ]
  },
  {
   "cell_type": "code",
   "execution_count": 14,
   "metadata": {
    "collapsed": false
   },
   "outputs": [],
   "source": [
    "#First we creat T/F labels for return \n",
    "joined_dataframe_filtered = \\\n",
    "    joined_dataframe_filtered.withColumn(\"Label\",(joined_dataframe_filtered[\"Return\"]>0).cast(\"Double\"))\n",
    "\n",
    "if save_parquet:\n",
    "    joined_dataframe_filtered.write.parquet(\"sentiment_processed.parquet\")\n",
    "else:\n",
    "    joined_dataframe_filtered.cache() \n"
   ]
  },
  {
   "cell_type": "code",
   "execution_count": 18,
   "metadata": {
    "collapsed": false
   },
   "outputs": [
    {
     "ename": "NameError",
     "evalue": "name 'x_cols' is not defined",
     "output_type": "error",
     "traceback": [
      "\u001b[0;31m---------------------------------------------------------------------------\u001b[0m",
      "\u001b[0;31mNameError\u001b[0m                                 Traceback (most recent call last)",
      "\u001b[0;32m<ipython-input-18-30402254fc95>\u001b[0m in \u001b[0;36m<module>\u001b[0;34m()\u001b[0m\n\u001b[0;32m----> 1\u001b[0;31m \u001b[0mx_cols\u001b[0m\u001b[0;34m\u001b[0m\u001b[0m\n\u001b[0m",
      "\u001b[0;31mNameError\u001b[0m: name 'x_cols' is not defined"
     ]
    }
   ],
   "source": []
  },
  {
   "cell_type": "markdown",
   "metadata": {},
   "source": [
    "## RF part"
   ]
  },
  {
   "cell_type": "code",
   "execution_count": 22,
   "metadata": {
    "collapsed": false
   },
   "outputs": [
    {
     "data": {
      "text/plain": [
       "['company_count',\n",
       " 'company_sentiment_score',\n",
       " 'is_device_Personal_computer',\n",
       " 'is_device_Tablet',\n",
       " 'is_device_Smartphone',\n",
       " 'is_domain_google',\n",
       " 'is_domain_cnn',\n",
       " 'is_domain_facebook',\n",
       " 'is_domain_adspserving',\n",
       " 'is_domain_frugalsource',\n",
       " 'is_domain_frontdoor',\n",
       " 'is_domain_mobilelikez',\n",
       " 'is_domain_bing',\n",
       " 'is_domain_pinterest',\n",
       " 'is_domain_cookmates',\n",
       " 'is_domain_adskpak',\n",
       " 'is_domain_fox',\n",
       " 'is_domain_yahoo',\n",
       " 'is_domain_t',\n",
       " 'is_domain_legacy',\n",
       " 'is_domain_therisinghollywood',\n",
       " 'is_domain_wcpo',\n",
       " 'is_domain_stumbleupon',\n",
       " 'is_domain_outbrain',\n",
       " 'is_domain_beenverified',\n",
       " 'is_domain_berry',\n",
       " 'is_domain_sherwin-williams',\n",
       " 'is_domain_taboola',\n",
       " 'is_domain_tmz',\n",
       " 'is_domain_freestufffinder',\n",
       " 'is_domain_cymax',\n",
       " 'is_domain_celebdirtylaundry',\n",
       " 'is_domain_komando',\n",
       " 'is_domain_co',\n",
       " 'is_domain_usatoday',\n",
       " 'is_domain_adp',\n",
       " 'is_domain_wsbtv',\n",
       " 'is_domain_wtop',\n",
       " 'is_domain_bankofamerica',\n",
       " 'is_domain_lovepanky',\n",
       " 'is_domain_laptopmag',\n",
       " 'is_domain_therealdeal',\n",
       " 'is_domain_southernsavers',\n",
       " 'is_domain_reddit',\n",
       " 'is_domain_drudgereport',\n",
       " 'is_domain_zergnet',\n",
       " 'is_domain_newsbusters',\n",
       " 'is_domain_vulture',\n",
       " 'is_domain_msn',\n",
       " 'is_domain_newsnet5',\n",
       " 'is_domain_hotair',\n",
       " 'is_domain_bossip',\n",
       " 'is_domain_thewrap',\n",
       " 'is_domain_dccomics',\n",
       " 'is_domain_microsofthup',\n",
       " 'is_domain_newsarama',\n",
       " 'is_domain_cinemablend',\n",
       " 'is_domain_gravity',\n",
       " 'is_domain_uberhumor',\n",
       " 'is_domain_livescience',\n",
       " 'is_domain_dailycooking',\n",
       " 'is_domain_comic-con',\n",
       " 'is_domain_etonline',\n",
       " 'is_domain_punchng',\n",
       " 'is_domain_nymag',\n",
       " 'is_domain_aol',\n",
       " 'is_domain_zamm',\n",
       " 'is_domain_space',\n",
       " 'is_domain_hunt4freebies',\n",
       " 'is_domain_ford',\n",
       " 'is_domain_deximedia',\n",
       " 'is_domain_pedestrian',\n",
       " 'is_domain_attendthisevent',\n",
       " 'is_domain_gopro',\n",
       " 'is_domain_ma3comic',\n",
       " 'is_domain_tumblr',\n",
       " 'is_domain_investopedia',\n",
       " 'is_domain_pcgamer',\n",
       " 'is_domain_maximumpc',\n",
       " 'is_domain_dumpaday',\n",
       " 'is_domain_hgtv',\n",
       " 'is_domain_adcdnx',\n",
       " 'is_domain_scarymommy',\n",
       " 'is_domain_marksdailyapple',\n",
       " 'is_domain_wxyz',\n",
       " 'is_domain_carnival',\n",
       " 'is_domain_idownloadblog',\n",
       " 'is_domain_feedly',\n",
       " 'is_domain_hollywoodreporter',\n",
       " 'is_domain_bjs',\n",
       " 'is_domain_ocala4sale',\n",
       " 'is_domain_adweek',\n",
       " 'is_domain_foxnews',\n",
       " 'is_domain_doubleclick',\n",
       " 'is_domain_autoweek',\n",
       " 'is_domain_classifiedads',\n",
       " 'is_domain_mmajunkie',\n",
       " 'is_domain_adblade',\n",
       " 'is_domain_atlantablackstar',\n",
       " 'is_domain_cnsnews',\n",
       " 'is_domain_thebiglead',\n",
       " 'is_domain_whole30',\n",
       " 'is_domain_abc15',\n",
       " 'is_domain_ellentv',\n",
       " 'is_domain_patheos',\n",
       " 'is_event_pview',\n",
       " 'is_event_click',\n",
       " 'is_event_search',\n",
       " 'is_event_share']"
      ]
     },
     "execution_count": 22,
     "metadata": {},
     "output_type": "execute_result"
    }
   ],
   "source": [
    "\"\"\"\n",
    "if save_pqrqu3:\n",
    "    joined_dataframe_filtered = spark.read.parquet(\"sentiment_processed.parquet\")\n",
    "\"\"\"\n",
    "x_cols"
   ]
  },
  {
   "cell_type": "code",
   "execution_count": 21,
   "metadata": {
    "collapsed": false
   },
   "outputs": [],
   "source": [
    "#let's look at what cols we have here...\n",
    "x_cols=joined_dataframe_filtered.columns\n",
    "#dropping redundant columns, need a better way...\n",
    "x_cols.remove(\"Return\")\n",
    "x_cols.remove(\"TimeStamp\")\n",
    "x_cols.remove(\"Ticker\")\n",
    "x_cols.remove(\"channel\")\n",
    "x_cols.remove(\"shortIp\")\n",
    "x_cols.remove(\"Label\")"
   ]
  },
  {
   "cell_type": "code",
   "execution_count": 17,
   "metadata": {
    "collapsed": false
   },
   "outputs": [],
   "source": [
    "#vectorize features\n",
    "vectorizer = VectorAssembler(inputCols = x_cols,outputCol=\"Features\")\n",
    "\n",
    "#split data 2-8\n",
    "(split20DF, split80DF) = joined_dataframe_filtered.randomSplit([0.2,0.8],seed)\n",
    "# Let's cache these datasets for performance\n",
    "testSet = split20DF\n",
    "trainingSet = split80DF\n"
   ]
  },
  {
   "cell_type": "code",
   "execution_count": 18,
   "metadata": {
    "collapsed": false
   },
   "outputs": [
    {
     "data": {
      "text/plain": [
       "Pipeline_4600ab2e060e53245090"
      ]
     },
     "execution_count": 18,
     "metadata": {},
     "output_type": "execute_result"
    }
   ],
   "source": [
    "dt = RandomForestClassifier()\n",
    "\n",
    "dt.setLabelCol(\"Label\").setPredictionCol(\"Predicted_Label\").setFeaturesCol(\"Features\")\n",
    "\n",
    "dtPipeline=Pipeline()\n",
    "\n",
    "dtPipeline.setStages([vectorizer,dt])"
   ]
  },
  {
   "cell_type": "code",
   "execution_count": 19,
   "metadata": {
    "collapsed": true
   },
   "outputs": [],
   "source": [
    "#first glimps\n",
    "#NOTE THAT PIPELINE/VECTORIZER FIT CURRENTLY ONLY SUPPORT NUMERIC FEATURES??????\n",
    "dt_glimps1=dtPipeline.fit(trainingSet)"
   ]
  },
  {
   "cell_type": "code",
   "execution_count": 20,
   "metadata": {
    "collapsed": false
   },
   "outputs": [
    {
     "name": "stdout",
     "output_type": "stream",
     "text": [
      "The area under ROC is 0.50\n"
     ]
    }
   ],
   "source": [
    "#make prediction\n",
    "#train_predictions = dt_glimps1.transform(trainingSet)\n",
    "test_predictions = dt_glimps1.transform(testSet)\n",
    "\n",
    "# Select (prediction, true label) and compute test error\n",
    "predicted_label_test=test_predictions.select(\"Predicted_Label\", \"Label\")\n",
    "evaluator = BinaryClassificationEvaluator(labelCol= \"Label\", \n",
    "            rawPredictionCol=\"Predicted_Label\",metricName=\"areaUnderROC\")\n",
    "accuracy_rf = evaluator.evaluate(predicted_label_test)\n",
    "print(\"The area under ROC is {:.2f}\".format(accuracy_rf))"
   ]
  },
  {
   "cell_type": "code",
   "execution_count": 21,
   "metadata": {
    "collapsed": false
   },
   "outputs": [
    {
     "data": {
      "text/plain": [
       "['company_count',\n",
       " 'company_sentiment_score',\n",
       " 'is_device_Personal computer',\n",
       " 'is_device_Tablet',\n",
       " 'is_device_Smartphone',\n",
       " 'is_event_pview',\n",
       " 'is_event_click',\n",
       " 'is_event_search',\n",
       " 'is_event_share']"
      ]
     },
     "execution_count": 21,
     "metadata": {},
     "output_type": "execute_result"
    }
   ],
   "source": [
    "#look at feature importance\n",
    "rf_model1=dt_glimps1.stages[1]\n",
    "#the important features\n",
    "rf_model1.featureImportances.values\n",
    "[x_cols[i] for i in rf_model1.featureImportances.indices]"
   ]
  },
  {
   "cell_type": "markdown",
   "metadata": {},
   "source": [
    "## playground"
   ]
  },
  {
   "cell_type": "code",
   "execution_count": 15,
   "metadata": {
    "collapsed": false
   },
   "outputs": [],
   "source": [
    "import plotly.plotly as py\n",
    "import matplotlib.pyplot as plt\n",
    "%matplotlib inline\n",
    "import pandas\n",
    "import seaborn"
   ]
  },
  {
   "cell_type": "code",
   "execution_count": 24,
   "metadata": {
    "collapsed": false
   },
   "outputs": [
    {
     "ename": "AnalysisException",
     "evalue": "u\"cannot resolve '`is_device_Personal computer`' given input columns: [is_domain_livescience, is_domain_outbrain, is_domain_ford, is_domain_gravity, is_domain_pinterest, is_domain_adp, is_domain_frugalsource, is_domain_feedly, is_domain_taboola, is_domain_atlantablackstar, is_domain_co, is_domain_cnsnews, is_event_click, is_domain_space, is_domain_therisinghollywood, is_domain_adcdnx, is_domain_thebiglead, is_domain_komando, is_domain_pcgamer, is_domain_t, is_domain_adskpak, is_domain_ellentv, is_device_Personal_computer, is_domain_classifiedads, channel, Return, is_domain_newsbusters, is_domain_stumbleupon, is_domain_usatoday, is_domain_freestufffinder, is_domain_punchng, is_domain_dccomics, is_domain_msn, is_domain_wxyz, is_domain_berry, is_event_search, is_domain_thewrap, is_domain_google, is_domain_patheos, is_domain_pedestrian, is_domain_abc15, is_device_Smartphone, is_domain_newsarama, is_domain_vulture, is_device_Tablet, is_domain_zamm, is_domain_newsnet5, is_domain_marksdailyapple, is_domain_frontdoor, is_domain_beenverified, is_domain_bing, is_domain_lovepanky, is_domain_adspserving, is_domain_dumpaday, is_domain_adweek, is_domain_maximumpc, is_domain_adblade, is_domain_investopedia, is_domain_cinemablend, is_domain_ocala4sale, shortIp, TimeStamp, is_domain_zergnet, is_domain_bankofamerica, is_domain_tumblr, is_domain_bossip, is_domain_wcpo, is_domain_facebook, is_domain_etonline, company_count, is_domain_dailycooking, Ticker, is_domain_laptopmag, is_domain_carnival, is_domain_doubleclick, is_domain_whole30, is_domain_nymag, is_domain_mmajunkie, is_domain_wsbtv, is_domain_therealdeal, is_domain_mobilelikez, is_domain_microsofthup, is_domain_celebdirtylaundry, is_domain_ma3comic, is_domain_cookmates, is_domain_cnn, is_domain_drudgereport, is_domain_uberhumor, is_domain_hunt4freebies, is_domain_scarymommy, is_domain_attendthisevent, is_domain_wtop, is_domain_hgtv, is_event_share, is_domain_tmz, is_domain_autoweek, is_domain_hotair, is_domain_sherwin-williams, is_domain_idownloadblog, is_domain_deximedia, Label, is_domain_yahoo, is_domain_cymax, is_domain_foxnews, company_sentiment_score, is_domain_bjs, is_domain_reddit, is_domain_legacy, is_domain_southernsavers, is_domain_aol, is_event_pview, is_domain_gopro, is_domain_hollywoodreporter, is_domain_fox, is_domain_comic-con];\"",
     "output_type": "error",
     "traceback": [
      "\u001b[0;31m---------------------------------------------------------------------------\u001b[0m",
      "\u001b[0;31mAnalysisException\u001b[0m                         Traceback (most recent call last)",
      "\u001b[0;32m<ipython-input-24-e1fffa06fe9c>\u001b[0m in \u001b[0;36m<module>\u001b[0;34m()\u001b[0m\n\u001b[1;32m      1\u001b[0m \u001b[0mr\u001b[0m\u001b[0;34m=\u001b[0m\u001b[0mjoined_dataframe_filtered\u001b[0m\u001b[0;34m.\u001b[0m\u001b[0mselect\u001b[0m\u001b[0;34m(\u001b[0m\u001b[0;34m\"Return\"\u001b[0m\u001b[0;34m)\u001b[0m\u001b[0;34m.\u001b[0m\u001b[0mtoPandas\u001b[0m\u001b[0;34m(\u001b[0m\u001b[0;34m)\u001b[0m\u001b[0;34m\u001b[0m\u001b[0m\n\u001b[0;32m----> 2\u001b[0;31m \u001b[0ms\u001b[0m\u001b[0;34m=\u001b[0m\u001b[0mjoined_dataframe_filtered\u001b[0m\u001b[0;34m.\u001b[0m\u001b[0mselect\u001b[0m\u001b[0;34m(\u001b[0m\u001b[0;34m\"is_device_Personal computer\"\u001b[0m\u001b[0;34m)\u001b[0m\u001b[0;34m.\u001b[0m\u001b[0mtoPandas\u001b[0m\u001b[0;34m(\u001b[0m\u001b[0;34m)\u001b[0m\u001b[0;34m\u001b[0m\u001b[0m\n\u001b[0m\u001b[1;32m      3\u001b[0m \u001b[0;31m#cc=joined_dataframe_filtered.select(\"company_count\").toPandas()\u001b[0m\u001b[0;34m\u001b[0m\u001b[0;34m\u001b[0m\u001b[0m\n\u001b[1;32m      4\u001b[0m \u001b[0mplt\u001b[0m\u001b[0;34m.\u001b[0m\u001b[0mscatter\u001b[0m\u001b[0;34m(\u001b[0m\u001b[0mr\u001b[0m\u001b[0;34m,\u001b[0m\u001b[0ms\u001b[0m\u001b[0;34m)\u001b[0m\u001b[0;34m\u001b[0m\u001b[0m\n\u001b[1;32m      5\u001b[0m \u001b[0mplt\u001b[0m\u001b[0;34m.\u001b[0m\u001b[0mxlabel\u001b[0m\u001b[0;34m(\u001b[0m\u001b[0;34m'Return'\u001b[0m\u001b[0;34m)\u001b[0m\u001b[0;34m\u001b[0m\u001b[0m\n",
      "\u001b[0;32m/Users/YIHUILI/Documents/Apache/spark/python/pyspark/sql/dataframe.pyc\u001b[0m in \u001b[0;36mselect\u001b[0;34m(self, *cols)\u001b[0m\n\u001b[1;32m    862\u001b[0m         \u001b[0;34m[\u001b[0m\u001b[0mRow\u001b[0m\u001b[0;34m(\u001b[0m\u001b[0mname\u001b[0m\u001b[0;34m=\u001b[0m\u001b[0;34mu'Alice'\u001b[0m\u001b[0;34m,\u001b[0m \u001b[0mage\u001b[0m\u001b[0;34m=\u001b[0m\u001b[0;36m12\u001b[0m\u001b[0;34m)\u001b[0m\u001b[0;34m,\u001b[0m \u001b[0mRow\u001b[0m\u001b[0;34m(\u001b[0m\u001b[0mname\u001b[0m\u001b[0;34m=\u001b[0m\u001b[0;34mu'Bob'\u001b[0m\u001b[0;34m,\u001b[0m \u001b[0mage\u001b[0m\u001b[0;34m=\u001b[0m\u001b[0;36m15\u001b[0m\u001b[0;34m)\u001b[0m\u001b[0;34m]\u001b[0m\u001b[0;34m\u001b[0m\u001b[0m\n\u001b[1;32m    863\u001b[0m         \"\"\"\n\u001b[0;32m--> 864\u001b[0;31m         \u001b[0mjdf\u001b[0m \u001b[0;34m=\u001b[0m \u001b[0mself\u001b[0m\u001b[0;34m.\u001b[0m\u001b[0m_jdf\u001b[0m\u001b[0;34m.\u001b[0m\u001b[0mselect\u001b[0m\u001b[0;34m(\u001b[0m\u001b[0mself\u001b[0m\u001b[0;34m.\u001b[0m\u001b[0m_jcols\u001b[0m\u001b[0;34m(\u001b[0m\u001b[0;34m*\u001b[0m\u001b[0mcols\u001b[0m\u001b[0;34m)\u001b[0m\u001b[0;34m)\u001b[0m\u001b[0;34m\u001b[0m\u001b[0m\n\u001b[0m\u001b[1;32m    865\u001b[0m         \u001b[0;32mreturn\u001b[0m \u001b[0mDataFrame\u001b[0m\u001b[0;34m(\u001b[0m\u001b[0mjdf\u001b[0m\u001b[0;34m,\u001b[0m \u001b[0mself\u001b[0m\u001b[0;34m.\u001b[0m\u001b[0msql_ctx\u001b[0m\u001b[0;34m)\u001b[0m\u001b[0;34m\u001b[0m\u001b[0m\n\u001b[1;32m    866\u001b[0m \u001b[0;34m\u001b[0m\u001b[0m\n",
      "\u001b[0;32m/Users/YIHUILI/Documents/Apache/spark/python/lib/py4j-0.10.1-src.zip/py4j/java_gateway.py\u001b[0m in \u001b[0;36m__call__\u001b[0;34m(self, *args)\u001b[0m\n\u001b[1;32m    931\u001b[0m         \u001b[0manswer\u001b[0m \u001b[0;34m=\u001b[0m \u001b[0mself\u001b[0m\u001b[0;34m.\u001b[0m\u001b[0mgateway_client\u001b[0m\u001b[0;34m.\u001b[0m\u001b[0msend_command\u001b[0m\u001b[0;34m(\u001b[0m\u001b[0mcommand\u001b[0m\u001b[0;34m)\u001b[0m\u001b[0;34m\u001b[0m\u001b[0m\n\u001b[1;32m    932\u001b[0m         return_value = get_return_value(\n\u001b[0;32m--> 933\u001b[0;31m             answer, self.gateway_client, self.target_id, self.name)\n\u001b[0m\u001b[1;32m    934\u001b[0m \u001b[0;34m\u001b[0m\u001b[0m\n\u001b[1;32m    935\u001b[0m         \u001b[0;32mfor\u001b[0m \u001b[0mtemp_arg\u001b[0m \u001b[0;32min\u001b[0m \u001b[0mtemp_args\u001b[0m\u001b[0;34m:\u001b[0m\u001b[0;34m\u001b[0m\u001b[0m\n",
      "\u001b[0;32m/Users/YIHUILI/Documents/Apache/spark/python/pyspark/sql/utils.pyc\u001b[0m in \u001b[0;36mdeco\u001b[0;34m(*a, **kw)\u001b[0m\n\u001b[1;32m     67\u001b[0m                                              e.java_exception.getStackTrace()))\n\u001b[1;32m     68\u001b[0m             \u001b[0;32mif\u001b[0m \u001b[0ms\u001b[0m\u001b[0;34m.\u001b[0m\u001b[0mstartswith\u001b[0m\u001b[0;34m(\u001b[0m\u001b[0;34m'org.apache.spark.sql.AnalysisException: '\u001b[0m\u001b[0;34m)\u001b[0m\u001b[0;34m:\u001b[0m\u001b[0;34m\u001b[0m\u001b[0m\n\u001b[0;32m---> 69\u001b[0;31m                 \u001b[0;32mraise\u001b[0m \u001b[0mAnalysisException\u001b[0m\u001b[0;34m(\u001b[0m\u001b[0ms\u001b[0m\u001b[0;34m.\u001b[0m\u001b[0msplit\u001b[0m\u001b[0;34m(\u001b[0m\u001b[0;34m': '\u001b[0m\u001b[0;34m,\u001b[0m \u001b[0;36m1\u001b[0m\u001b[0;34m)\u001b[0m\u001b[0;34m[\u001b[0m\u001b[0;36m1\u001b[0m\u001b[0;34m]\u001b[0m\u001b[0;34m,\u001b[0m \u001b[0mstackTrace\u001b[0m\u001b[0;34m)\u001b[0m\u001b[0;34m\u001b[0m\u001b[0m\n\u001b[0m\u001b[1;32m     70\u001b[0m             \u001b[0;32mif\u001b[0m \u001b[0ms\u001b[0m\u001b[0;34m.\u001b[0m\u001b[0mstartswith\u001b[0m\u001b[0;34m(\u001b[0m\u001b[0;34m'org.apache.spark.sql.catalyst.analysis'\u001b[0m\u001b[0;34m)\u001b[0m\u001b[0;34m:\u001b[0m\u001b[0;34m\u001b[0m\u001b[0m\n\u001b[1;32m     71\u001b[0m                 \u001b[0;32mraise\u001b[0m \u001b[0mAnalysisException\u001b[0m\u001b[0;34m(\u001b[0m\u001b[0ms\u001b[0m\u001b[0;34m.\u001b[0m\u001b[0msplit\u001b[0m\u001b[0;34m(\u001b[0m\u001b[0;34m': '\u001b[0m\u001b[0;34m,\u001b[0m \u001b[0;36m1\u001b[0m\u001b[0;34m)\u001b[0m\u001b[0;34m[\u001b[0m\u001b[0;36m1\u001b[0m\u001b[0;34m]\u001b[0m\u001b[0;34m,\u001b[0m \u001b[0mstackTrace\u001b[0m\u001b[0;34m)\u001b[0m\u001b[0;34m\u001b[0m\u001b[0m\n",
      "\u001b[0;31mAnalysisException\u001b[0m: u\"cannot resolve '`is_device_Personal computer`' given input columns: [is_domain_livescience, is_domain_outbrain, is_domain_ford, is_domain_gravity, is_domain_pinterest, is_domain_adp, is_domain_frugalsource, is_domain_feedly, is_domain_taboola, is_domain_atlantablackstar, is_domain_co, is_domain_cnsnews, is_event_click, is_domain_space, is_domain_therisinghollywood, is_domain_adcdnx, is_domain_thebiglead, is_domain_komando, is_domain_pcgamer, is_domain_t, is_domain_adskpak, is_domain_ellentv, is_device_Personal_computer, is_domain_classifiedads, channel, Return, is_domain_newsbusters, is_domain_stumbleupon, is_domain_usatoday, is_domain_freestufffinder, is_domain_punchng, is_domain_dccomics, is_domain_msn, is_domain_wxyz, is_domain_berry, is_event_search, is_domain_thewrap, is_domain_google, is_domain_patheos, is_domain_pedestrian, is_domain_abc15, is_device_Smartphone, is_domain_newsarama, is_domain_vulture, is_device_Tablet, is_domain_zamm, is_domain_newsnet5, is_domain_marksdailyapple, is_domain_frontdoor, is_domain_beenverified, is_domain_bing, is_domain_lovepanky, is_domain_adspserving, is_domain_dumpaday, is_domain_adweek, is_domain_maximumpc, is_domain_adblade, is_domain_investopedia, is_domain_cinemablend, is_domain_ocala4sale, shortIp, TimeStamp, is_domain_zergnet, is_domain_bankofamerica, is_domain_tumblr, is_domain_bossip, is_domain_wcpo, is_domain_facebook, is_domain_etonline, company_count, is_domain_dailycooking, Ticker, is_domain_laptopmag, is_domain_carnival, is_domain_doubleclick, is_domain_whole30, is_domain_nymag, is_domain_mmajunkie, is_domain_wsbtv, is_domain_therealdeal, is_domain_mobilelikez, is_domain_microsofthup, is_domain_celebdirtylaundry, is_domain_ma3comic, is_domain_cookmates, is_domain_cnn, is_domain_drudgereport, is_domain_uberhumor, is_domain_hunt4freebies, is_domain_scarymommy, is_domain_attendthisevent, is_domain_wtop, is_domain_hgtv, is_event_share, is_domain_tmz, is_domain_autoweek, is_domain_hotair, is_domain_sherwin-williams, is_domain_idownloadblog, is_domain_deximedia, Label, is_domain_yahoo, is_domain_cymax, is_domain_foxnews, company_sentiment_score, is_domain_bjs, is_domain_reddit, is_domain_legacy, is_domain_southernsavers, is_domain_aol, is_event_pview, is_domain_gopro, is_domain_hollywoodreporter, is_domain_fox, is_domain_comic-con];\""
     ]
    }
   ],
   "source": [
    "r=joined_dataframe_filtered.select(\"Return\").toPandas()\n",
    "s=joined_dataframe_filtered.select(\"is_device_Personal computer\").toPandas()\n",
    "#cc=joined_dataframe_filtered.select(\"company_count\").toPandas()\n",
    "plt.scatter(r,s)\n",
    "plt.xlabel('Return')\n",
    "plt.ylabel('is_device_Personal computer')"
   ]
  },
  {
   "cell_type": "code",
   "execution_count": null,
   "metadata": {
    "collapsed": true
   },
   "outputs": [],
   "source": []
  }
 ],
 "metadata": {
  "kernelspec": {
   "display_name": "Python 2",
   "language": "python",
   "name": "python2"
  },
  "language_info": {
   "codemirror_mode": {
    "name": "ipython",
    "version": 2
   },
   "file_extension": ".py",
   "mimetype": "text/x-python",
   "name": "python",
   "nbconvert_exporter": "python",
   "pygments_lexer": "ipython2",
   "version": "2.7.12"
  }
 },
 "nbformat": 4,
 "nbformat_minor": 0
}
